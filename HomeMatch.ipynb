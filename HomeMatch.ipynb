{
 "cells": [
  {
   "cell_type": "markdown",
   "id": "a108af04",
   "metadata": {},
   "source": [
    "# HomeMatch: Semantic Real Estate Listing Matching Application"
   ]
  },
  {
   "cell_type": "code",
   "execution_count": 103,
   "id": "6554fd4c",
   "metadata": {},
   "outputs": [],
   "source": [
    "import os\n",
    "from langchain.llms import OpenAI\n",
    "import numpy as np\n",
    "import json\n",
    "from typing import List\n",
    "from sentence_transformers import SentenceTransformer\n",
    "from lancedb.pydantic import vector, LanceModel\n",
    "import pyarrow as pa\n",
    "import lancedb\n",
    "import gradio as gr\n",
    "from langchain.chains import LLMChain\n",
    "from langchain.prompts import PromptTemplate, ChatPromptTemplate\n",
    "from langchain.retrievers import RePhraseQueryRetriever\n",
    "from langchain.llms import OpenAI\n",
    "from langchain.chat_models import ChatOpenAI\n",
    "\n",
    "device = \"mps\""
   ]
  },
  {
   "cell_type": "markdown",
   "id": "965ae6db",
   "metadata": {},
   "source": [
    "### Generating Real Estate Listings with an LLM\n",
    "I used ChatGPT 3.5 to generate over 20 listing from the openai website. The prompt used to generate the listing is screenshorted as seen below\n",
    "\n",
    "<img src=\"data/Screenshot 2024-03-15 at 5.50.35 PM.png\" width=\"50%\">\n",
    "\n",
    "<img src=\"data/Screenshot 2024-03-15 at 5.51.09 PM.png\" width=\"50%\">\n",
    "\n",
    "The generated listing was manually copied to `data/listing.json` file\n"
   ]
  },
  {
   "cell_type": "markdown",
   "id": "83befd87",
   "metadata": {},
   "source": [
    "### Creating a Vector Database and Storing Listings\n",
    "I will be doing the folowing\n",
    "\n",
    "- Creating a pydantic model to capture the fields of the listing object\n",
    "- Loading data from the json file into a LanceDB table"
   ]
  },
  {
   "cell_type": "code",
   "execution_count": 104,
   "id": "a270a89d",
   "metadata": {},
   "outputs": [],
   "source": [
    "model = SentenceTransformer('paraphrase-MiniLM-L6-v2', device=device)\n",
    "\n",
    "\n",
    "class HomeMatchModel(LanceModel):\n",
    "    Neighborhood: str\n",
    "    Price: str\n",
    "    Bedrooms: int\n",
    "    Bathrooms: int\n",
    "    HouseSize: int\n",
    "    Description: str\n",
    "    NeighborhoodDescription: str\n",
    "    vector: vector(384) # type: ignore\n",
    "\n",
    "\n",
    "def generate_embeddings(input_data: Union[str, list[str]]) -> np.ndarray:\n",
    "    \"\"\"\n",
    "    Generate embeddings for the given input data using a pre-trained model.\n",
    "\n",
    "    Args:\n",
    "        input_data (Union[str, list[str]]): Input data to generate embeddings for. It can be a single string or a list of strings.\n",
    "\n",
    "    Returns:\n",
    "        np.ndarray: An array containing the embeddings generated for the input data.\n",
    "\n",
    "    Raises:\n",
    "        Any errors raised by the underlying model during encoding.\n",
    "    \"\"\"  \n",
    "    embeddings = model.encode(input_data)\n",
    "    return embeddings\n",
    "\n",
    "\n",
    "def generate_listing() -> List:\n",
    "    \"\"\"\n",
    "    Generate the listing from file into a list of distionaries containd the home listing items\n",
    "    \n",
    "    \"\"\"\n",
    "    listing = []\n",
    "    with open('data/listing.json', 'r') as csvfile:\n",
    "        listings = json.load(csvfile)\n",
    "        for row in listings:\n",
    "            row[\"vector\"] = generate_embeddings(f'{row[\"Description\"]}\\n{row[\"NeighborhoodDescription\"]}')\n",
    "            listing.append(row)\n",
    "            \n",
    "    return listing\n",
    "home_listing = generate_listing()"
   ]
  },
  {
   "cell_type": "code",
   "execution_count": 105,
   "id": "9cc6cfd4",
   "metadata": {},
   "outputs": [
    {
     "name": "stderr",
     "output_type": "stream",
     "text": [
      "[2024-03-16T20:25:51Z WARN  lance::dataset] No existing dataset at /Users/philip/Project/HomeMatch/data/lancedb/home_match.lance, it will be created\n"
     ]
    }
   ],
   "source": [
    "\n",
    "def create_table_from_data(data):\n",
    "    \"\"\"\n",
    "    Creates a table in the specified database using the home listing data.\n",
    "\n",
    "    Args:\n",
    "        data (list): A list of data to be inserted into the table.\n",
    "\n",
    "    Returns:\n",
    "        table: The created table object.\n",
    "    \"\"\"\n",
    "    db = lancedb.connect(\"./data/lancedb\")\n",
    "    table_name = \"home_match\"\n",
    "    db.drop_table(table_name, ignore_missing=True)\n",
    "    data = pa.Table.from_pylist(data, schema=HomeMatchModel.to_arrow_schema())\n",
    "    table = db.create_table(table_name, mode=\"overwrite\", data=data)\n",
    "    return table\n",
    "\n",
    "table = create_table_from_data(home_listing)"
   ]
  },
  {
   "cell_type": "markdown",
   "id": "407f34ee",
   "metadata": {},
   "source": [
    "### Semantic Search of Listings Based on Buyer Preferences"
   ]
  },
  {
   "cell_type": "code",
   "execution_count": 106,
   "id": "9542c93c",
   "metadata": {},
   "outputs": [],
   "source": [
    "\n",
    "\n",
    "def interpret_user_preferences(*user_answers):\n",
    "    \"\"\"\n",
    "    Simple custom parsing logic to get/interprete user preference\n",
    "    \"\"\"\n",
    "    global collected_preferences\n",
    "    parsed_preferences = \"\"\n",
    "    for answer in user_answers:\n",
    "        parsed_preferences += \" \"+answer\n",
    "        collected_preferences = parsed_preferences\n",
    "    return parsed_preferences"
   ]
  },
  {
   "cell_type": "code",
   "execution_count": 107,
   "id": "a8ee8f3b-d9fe-4765-bab9-b0c0081b1187",
   "metadata": {},
   "outputs": [
    {
     "name": "stdout",
     "output_type": "stream",
     "text": [
      "Running on local URL:  http://127.0.0.1:7872\n",
      "\n",
      "To create a public link, set `share=True` in `launch()`.\n"
     ]
    },
    {
     "name": "stderr",
     "output_type": "stream",
     "text": [
      "Exception in thread Thread-69 (_do_normal_analytics_request):\n",
      "Traceback (most recent call last):\n",
      "  File \"/Users/philip/Project/HomeMatch/.venv/lib/python3.10/site-packages/httpx/_transports/default.py\", line 69, in map_httpcore_exceptions\n",
      "    yield\n",
      "  File \"/Users/philip/Project/HomeMatch/.venv/lib/python3.10/site-packages/httpx/_transports/default.py\", line 233, in handle_request\n",
      "    resp = self._pool.handle_request(req)\n",
      "  File \"/Users/philip/Project/HomeMatch/.venv/lib/python3.10/site-packages/httpcore/_sync/connection_pool.py\", line 216, in handle_request\n",
      "    raise exc from None\n",
      "  File \"/Users/philip/Project/HomeMatch/.venv/lib/python3.10/site-packages/httpcore/_sync/connection_pool.py\", line 196, in handle_request\n",
      "    response = connection.handle_request(\n",
      "  File \"/Users/philip/Project/HomeMatch/.venv/lib/python3.10/site-packages/httpcore/_sync/connection.py\", line 99, in handle_request\n",
      "    raise exc\n",
      "  File \"/Users/philip/Project/HomeMatch/.venv/lib/python3.10/site-packages/httpcore/_sync/connection.py\", line 76, in handle_request\n",
      "    stream = self._connect(request)\n",
      "  File \"/Users/philip/Project/HomeMatch/.venv/lib/python3.10/site-packages/httpcore/_sync/connection.py\", line 154, in _connect\n",
      "    stream = stream.start_tls(**kwargs)\n",
      "  File \"/Users/philip/Project/HomeMatch/.venv/lib/python3.10/site-packages/httpcore/_backends/sync.py\", line 152, in start_tls\n",
      "    with map_exceptions(exc_map):\n",
      "  File \"/Users/philip/.pyenv/versions/3.10.10/lib/python3.10/contextlib.py\", line 153, in __exit__\n",
      "    self.gen.throw(typ, value, traceback)\n",
      "  File \"/Users/philip/Project/HomeMatch/.venv/lib/python3.10/site-packages/httpcore/_exceptions.py\", line 14, in map_exceptions\n",
      "    raise to_exc(exc) from exc\n",
      "httpcore.ConnectTimeout: _ssl.c:980: The handshake operation timed out\n",
      "\n",
      "The above exception was the direct cause of the following exception:\n",
      "\n",
      "Traceback (most recent call last):\n",
      "  File \"/Users/philip/.pyenv/versions/3.10.10/lib/python3.10/threading.py\", line 1016, in _bootstrap_inner\n",
      "    self.run()\n",
      "  File \"/Users/philip/Project/HomeMatch/.venv/lib/python3.10/site-packages/ipykernel/ipkernel.py\", line 761, in run_closure\n",
      "    _threading_Thread_run(self)\n",
      "  File \"/Users/philip/.pyenv/versions/3.10.10/lib/python3.10/threading.py\", line 953, in run\n",
      "    self._target(*self._args, **self._kwargs)\n",
      "  File \"/Users/philip/Project/HomeMatch/.venv/lib/python3.10/site-packages/gradio/analytics.py\", line 63, in _do_normal_analytics_request\n",
      "    httpx.post(url, data=data, timeout=5)\n",
      "  File \"/Users/philip/Project/HomeMatch/.venv/lib/python3.10/site-packages/httpx/_api.py\", line 319, in post\n",
      "    return request(\n",
      "  File \"/Users/philip/Project/HomeMatch/.venv/lib/python3.10/site-packages/httpx/_api.py\", line 106, in request\n",
      "    return client.request(\n",
      "  File \"/Users/philip/Project/HomeMatch/.venv/lib/python3.10/site-packages/httpx/_client.py\", line 827, in request\n",
      "    return self.send(request, auth=auth, follow_redirects=follow_redirects)\n",
      "  File \"/Users/philip/Project/HomeMatch/.venv/lib/python3.10/site-packages/httpx/_client.py\", line 914, in send\n",
      "    response = self._send_handling_auth(\n",
      "  File \"/Users/philip/Project/HomeMatch/.venv/lib/python3.10/site-packages/httpx/_client.py\", line 942, in _send_handling_auth\n",
      "    response = self._send_handling_redirects(\n",
      "  File \"/Users/philip/Project/HomeMatch/.venv/lib/python3.10/site-packages/httpx/_client.py\", line 979, in _send_handling_redirects\n",
      "    response = self._send_single_request(request)\n",
      "  File \"/Users/philip/Project/HomeMatch/.venv/lib/python3.10/site-packages/httpx/_client.py\", line 1015, in _send_single_request\n",
      "    response = transport.handle_request(request)\n",
      "  File \"/Users/philip/Project/HomeMatch/.venv/lib/python3.10/site-packages/httpx/_transports/default.py\", line 232, in handle_request\n",
      "    with map_httpcore_exceptions():\n",
      "  File \"/Users/philip/.pyenv/versions/3.10.10/lib/python3.10/contextlib.py\", line 153, in __exit__\n",
      "    self.gen.throw(typ, value, traceback)\n",
      "  File \"/Users/philip/Project/HomeMatch/.venv/lib/python3.10/site-packages/httpx/_transports/default.py\", line 86, in map_httpcore_exceptions\n",
      "    raise mapped_exc(message) from exc\n",
      "httpx.ConnectTimeout: _ssl.c:980: The handshake operation timed out\n"
     ]
    }
   ],
   "source": [
    "\n",
    "def user_preference_interface():\n",
    "    \"\"\"\n",
    "    Collects buyer preferences in natural language using the gradio UI framework\n",
    "\n",
    "    Returns the buyers preferences\n",
    "    \"\"\"\n",
    "    question1 = gr.Textbox(label=\"How big do you want your house to be?\",\n",
    "                        value=\"A comfortable three-bedroom house with a spacious kitchen and a cozy living room.\")\n",
    "    question2 = gr.Textbox(label=\"What are 3 most important things for you in choosing this property?\",\n",
    "                        value=\"A quiet neighborhood, good local schools, and convenient shopping options.\")\n",
    "    question3 = gr.Textbox(label=\"Which amenities would you like?\",\n",
    "                        value=\"A backyard for gardening, a two-car garage, and a modern, energy-efficient heating system.\")\n",
    "    question4 = gr.Textbox(label=\"Which transportation options are important to you?\",\n",
    "                        value=\"Easy access to a reliable bus line, proximity to a major highway, and bike-friendly roads.\")\n",
    "    question5 = gr.Textbox(label=\"How urban do you want your neighborhood to be?\",\n",
    "                        value=\"A balance between suburban tranquility and access to urban amenities like restaurants and theaters.\")\n",
    "    output1 = gr.Textbox(label=\"Raw Parsed Output\")\n",
    "    demo = gr.Interface(\n",
    "        fn=interpret_user_preferences,\n",
    "        inputs=[question1, question2, question3, question4, question5],\n",
    "        outputs=[output1],\n",
    "        title=\"Interface for collecting buyer's preferences for demontration of sumantic search\",\n",
    "        description=\"Enter your preferences in natual language based on the questions below\"\n",
    "    )\n",
    "    demo.launch(inline=False)\n",
    "user_preference_interface()"
   ]
  },
  {
   "cell_type": "markdown",
   "id": "7a13ee0b",
   "metadata": {},
   "source": [
    "### Step 5: Searching Based on Preferences\n",
    "Will be the the sentence_transformers model as our retrieval\n",
    "Will also be using cosine similarity because the embeddings are not normalised"
   ]
  },
  {
   "cell_type": "code",
   "execution_count": 108,
   "id": "59be17f5",
   "metadata": {},
   "outputs": [],
   "source": [
    "def semantic_listing_search(buyer_preferences):\n",
    "    \"\"\"\n",
    "    Perform a semantic search on listings based on given buyer preferences.\n",
    "\n",
    "    This function enables searching listings using semantic analysis techniques to find matches that closely align with the provided buyer preferences.\n",
    "\n",
    "    Args:\n",
    "        buyer_preferences (dict): A dictionary containing the buyer's preferences.\n",
    "\n",
    "    Returns:\n",
    "        list: A list of listings closely matching the input preferences.\n",
    "        \n",
    "    \"\"\"\n",
    "    query_vector = generate_embeddings(parsed_preferences)\n",
    "    results = table.search(query_vector).limit(k).metric(\"cosine\").to_pydantic(HomeMatchModel)\n",
    "    return results\n",
    "home_matched_listings = home_match_retriever(collected_preferences)"
   ]
  },
  {
   "cell_type": "markdown",
   "id": "6381e6bb",
   "metadata": {},
   "source": [
    "### Augmented Response Generation"
   ]
  },
  {
   "cell_type": "code",
   "execution_count": 109,
   "id": "67aba488",
   "metadata": {},
   "outputs": [],
   "source": [
    "\n",
    "model_name = 'gpt-3.5-turbo'\n",
    "\n",
    "def get_personalised_listing(description):\n",
    "    \"\"\"\n",
    "    Search and augment real estate listings based on buyer preferences.\n",
    "\n",
    "    \"\"\"\n",
    "    QUERY_PROMPT = PromptTemplate(\n",
    "        input_variables=[\"description\"],\n",
    "        template=\"\"\"You are an assistant tasked with taking a property listing description from a user\n",
    "        and augmenting the description. In the process, subtly emphasize aspects of the property that align with what a buyer\n",
    "        of the property is looking for. In the new property listing description, ensure that the augmentation process \n",
    "        enhances the appeal of the listing without altering factual information.\n",
    "        Here is the user description: {description} \"\"\",\n",
    "    )\n",
    "\n",
    "    llm = ChatOpenAI(temperature=0, model_name=model_name)\n",
    "    llm_chain = LLMChain(llm=llm, prompt=QUERY_PROMPT)\n",
    "    result = llm_chain.run(description)\n",
    "    return result\n"
   ]
  },
  {
   "cell_type": "code",
   "execution_count": 110,
   "id": "5f70010c",
   "metadata": {},
   "outputs": [
    {
     "name": "stdout",
     "output_type": "stream",
     "text": [
      "LISTING 1\n",
      "Original Description \n",
      " Unique 3-bedroom, 2.5-bathroom urban treehouse. Nestled among towering trees, this eco-friendly home features sustainable materials, a rooftop garden, and a cozy tree-shaded patio. Urban Treehouse is an oasis in the heart of the city. Live in harmony with nature while enjoying the convenience of urban living, surrounded by lush greenery and a peaceful atmosphere. \n",
      "\n",
      "Personalised Listing \n",
      " Introducing a one-of-a-kind 3-bedroom, 2.5-bathroom urban treehouse that seamlessly blends modern living with nature's tranquility. This eco-friendly sanctuary is enveloped by majestic trees, offering a serene escape from the hustle and bustle of city life. The sustainable materials used in its construction, along with a rooftop garden and a charming tree-shaded patio, create a harmonious environment that promotes a sustainable lifestyle. Urban Treehouse is not just a home, but a retreat where you can immerse yourself in the beauty of lush greenery and enjoy a peaceful atmosphere while still being in the heart of the city. Experience the perfect balance of urban convenience and natural serenity in this truly unique property. \n",
      "\n",
      "LISTING 2\n",
      "Original Description \n",
      " Inviting 3-bedroom, 2-bathroom home in Garden Grove Retreat. Lush gardens surround this charming property, offering a peaceful escape. The interior features a gourmet kitchen and a cozy sunroom. Garden Grove Retreat is a haven for gardening enthusiasts, featuring community green spaces and botanical gardens. Experience the tranquility of nature in this idyllic neighborhood. \n",
      "\n",
      "Personalised Listing \n",
      " Welcome to your inviting oasis in Garden Grove Retreat! This 3-bedroom, 2-bathroom home is nestled amidst lush gardens, providing a serene and tranquil environment for relaxation. The interior boasts a gourmet kitchen, perfect for culinary enthusiasts, and a cozy sunroom, ideal for unwinding after a long day.\n",
      "\n",
      "Garden Grove Retreat is a paradise for gardening enthusiasts, with community green spaces and botanical gardens that offer endless inspiration and beauty. Immerse yourself in the tranquility of nature in this idyllic neighborhood, where the sounds of birds chirping and the scent of blooming flowers fill the air.\n",
      "\n",
      "Don't miss the opportunity to make this charming property your own and experience the peaceful escape that Garden Grove Retreat has to offer. \n",
      "\n",
      "LISTING 3\n",
      "Original Description \n",
      " Tranquil 3-bedroom, 2.5-bathroom hillside retreat with panoramic mountain views. This architecturally stunning home features a spacious deck, a cozy fireplace, and a private garden oasis. Hillside Retreat offers a peaceful escape from the hustle and bustle. Surrounded by nature trails and parks, it's an ideal spot for those who appreciate serenity and outdoor activities. \n",
      "\n",
      "Personalised Listing \n",
      " Escape to your own private sanctuary at this tranquil 3-bedroom, 2.5-bathroom hillside retreat boasting breathtaking panoramic mountain views. Step inside this architecturally stunning home to discover a spacious deck perfect for enjoying the serene surroundings, a cozy fireplace for cozy evenings, and a private garden oasis for relaxation and rejuvenation.\n",
      "\n",
      "Hillside Retreat offers a peaceful escape from the hustle and bustle of everyday life, providing a sanctuary surrounded by nature trails and parks. Ideal for those who appreciate serenity and outdoor activities, this home is a perfect blend of luxury and nature, offering a unique opportunity to live in harmony with the natural beauty that surrounds it. Don't miss out on the chance to make this tranquil retreat your own slice of paradise. \n",
      "\n",
      "LISTING 4\n",
      "Original Description \n",
      " Classic 3-bedroom, 2.5-bathroom home in the scenic Maple Grove Estates. Graced with mature trees, this property features a cozy fireplace, a sunlit breakfast nook, and a landscaped backyard. Maple Grove Estates is a charming, tree-lined community, providing a peaceful suburban lifestyle. Enjoy local parks, excellent schools, and the beauty of changing seasons. \n",
      "\n"
     ]
    },
    {
     "name": "stderr",
     "output_type": "stream",
     "text": [
      "Retrying langchain.chat_models.openai.ChatOpenAI.completion_with_retry.<locals>._completion_with_retry in 4.0 seconds as it raised RateLimitError: Rate limit reached for gpt-3.5-turbo in organization org-dIYsSj4CiWwXV1W0XbeyaNTK on requests per min (RPM): Limit 3, Used 3, Requested 1. Please try again in 20s. Visit https://platform.openai.com/account/rate-limits to learn more. You can increase your rate limit by adding a payment method to your account at https://platform.openai.com/account/billing..\n"
     ]
    },
    {
     "name": "stdout",
     "output_type": "stream",
     "text": [
      "Personalised Listing \n",
      " Nestled in the picturesque Maple Grove Estates, this timeless 3-bedroom, 2.5-bathroom home exudes charm and tranquility. The property is adorned with majestic mature trees, creating a serene backdrop for everyday living. Step inside to discover a warm and inviting atmosphere highlighted by a cozy fireplace, perfect for relaxing evenings. The sunlit breakfast nook offers a delightful space to enjoy your morning coffee while overlooking the beautifully landscaped backyard.\n",
      "\n",
      "Maple Grove Estates is a sought-after, tree-lined community that epitomizes the essence of a peaceful suburban lifestyle. Immerse yourself in the beauty of nature with nearby parks and walking trails, providing endless opportunities for outdoor recreation. Families will appreciate the proximity to top-rated schools, ensuring a quality education for children of all ages. Embrace the charm of the changing seasons as you create lasting memories in this idyllic setting. Don't miss the chance to make this enchanting property your new home. \n",
      "\n",
      "LISTING 5\n",
      "Original Description \n",
      " Modern 4-bedroom, 3.5-bathroom retreat with panoramic skyline views. This contemporary masterpiece features a rooftop garden, a home gym, and smart home technology throughout. Skyline Retreat offers a high-altitude living experience with breathtaking views of the cityscape. Enjoy the convenience of urban living while indulging in the serenity of your private sanctuary. \n",
      "\n"
     ]
    },
    {
     "name": "stderr",
     "output_type": "stream",
     "text": [
      "Retrying langchain.chat_models.openai.ChatOpenAI.completion_with_retry.<locals>._completion_with_retry in 4.0 seconds as it raised RateLimitError: Rate limit reached for gpt-3.5-turbo in organization org-dIYsSj4CiWwXV1W0XbeyaNTK on requests per min (RPM): Limit 3, Used 3, Requested 1. Please try again in 20s. Visit https://platform.openai.com/account/rate-limits to learn more. You can increase your rate limit by adding a payment method to your account at https://platform.openai.com/account/billing..\n",
      "Retrying langchain.chat_models.openai.ChatOpenAI.completion_with_retry.<locals>._completion_with_retry in 4.0 seconds as it raised RateLimitError: Rate limit reached for gpt-3.5-turbo in organization org-dIYsSj4CiWwXV1W0XbeyaNTK on requests per min (RPM): Limit 3, Used 3, Requested 1. Please try again in 20s. Visit https://platform.openai.com/account/rate-limits to learn more. You can increase your rate limit by adding a payment method to your account at https://platform.openai.com/account/billing..\n",
      "Retrying langchain.chat_models.openai.ChatOpenAI.completion_with_retry.<locals>._completion_with_retry in 4.0 seconds as it raised RateLimitError: Rate limit reached for gpt-3.5-turbo in organization org-dIYsSj4CiWwXV1W0XbeyaNTK on requests per min (RPM): Limit 3, Used 3, Requested 1. Please try again in 20s. Visit https://platform.openai.com/account/rate-limits to learn more. You can increase your rate limit by adding a payment method to your account at https://platform.openai.com/account/billing..\n"
     ]
    },
    {
     "name": "stdout",
     "output_type": "stream",
     "text": [
      "Personalised Listing \n",
      " Welcome to Skyline Retreat, a stunning modern 4-bedroom, 3.5-bathroom sanctuary boasting panoramic skyline views. This contemporary masterpiece is not just a home, but a lifestyle experience. Step into luxury with a rooftop garden perfect for relaxing or entertaining, a state-of-the-art home gym for your fitness needs, and smart home technology seamlessly integrated throughout the property.\n",
      "\n",
      "Skyline Retreat offers more than just a high-altitude living experience - it provides a gateway to a world of convenience and tranquility. Immerse yourself in the breathtaking views of the cityscape from the comfort of your own home, where urban living meets the serenity of a private sanctuary. Don't just settle for a house, elevate your living experience at Skyline Retreat. \n",
      "\n"
     ]
    }
   ],
   "source": [
    "\n",
    "augmented_descriptions = []\n",
    "for (i, home_preference) in enumerate(home_matched_listings):\n",
    "    print(\"LISTING\", i+1)\n",
    "    original_description = home_preference.Description + \" \" + home_preference.NeighborhoodDescription\n",
    "    print(f\"Original Description\", \"\\n\", original_description, \"\\n\")\n",
    "    augmented_description = get_personalised_listing(original_description)\n",
    "    augmented_descriptions.append(augmented_description)\n",
    "    print(f\"Personalised Listing\", \"\\n\" ,augmented_description, \"\\n\")\n"
   ]
  }
 ],
 "metadata": {
  "kernelspec": {
   "display_name": "Python 3 (ipykernel)",
   "language": "python",
   "name": "python3"
  }
 },
 "nbformat": 4,
 "nbformat_minor": 5
}
